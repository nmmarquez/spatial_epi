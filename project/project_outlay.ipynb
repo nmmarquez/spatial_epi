{
 "cells": [
  {
   "cell_type": "markdown",
   "metadata": {},
   "source": [
    "# Testing the BYM2 Model: The Penalised-Complexity Priors  \n",
    "\n",
    "### Goals of this session  \n",
    "1. Simulate data with different underlying random effects components.  \n",
    "    - $\\delta$ which is pure overdispersion  \n",
    "    - $S$ which is spatially correlated  \n",
    "    - A combination of $\\delta$ and $S$  \n",
    "2. Use the BYM2 model to asses how well the model does at caputuring these effects.  \n",
    "3. simulate a similar set of data this time using covarites.  \n",
    "4. Asses covariate bias in BYM2, overdispersion, GMRF, and GMRF+Overdispersion model.  \n",
    "5. Use the ohio dataset as real test case to models  "
   ]
  },
  {
   "cell_type": "code",
   "execution_count": 3,
   "metadata": {
    "collapsed": false
   },
   "outputs": [],
   "source": [
    "set.seed(123)\n",
    "rm(list=ls())\n",
    "library(SpatialEpi)\n",
    "library(spdep)\n",
    "library(INLA)\n",
    "library(RColorBrewer)\n",
    "library(maptools)\n",
    "library(maps)\n",
    "library(ggplot2)\n",
    "library(sp)\n",
    "library(lattice)\n",
    "library(surveillance)\n",
    "library(parallel)\n",
    "\n",
    "## Get Pennsylvania map file\n",
    "setwd(\"~/Documents/Classes/spatial_epi/project/\")\n",
    "load(\"../homework/hw3/USA_adm2.RData\") # From http://gadm.org/\n",
    "\n",
    "# define the 50 states remove DC\n",
    "states <- unique(gadm$NAME_1)\n",
    "states <- as.character(states[!(states %in% c(\"District of Columbia\"))])\n",
    "\n",
    "# each data unit will be a state with different data\n",
    "state_data <- lapply(states, function(x) list(name=x))\n",
    "names(state_data) <- states\n",
    "\n",
    "# while testing lets only keep three states\n",
    "state_data <- state_data[c(\"California\", \"Washington\")]\n",
    "\n",
    "apply2 <- function(f, new_key, state_data, cores=1){\n",
    "    # apply a function in parallel to an old key of state data and then\n",
    "    # add the newely generated data to the key list\n",
    "    states <- names(state_data)\n",
    "    temp <- mclapply(states, function(x) \n",
    "        f(state_data[[x]]), mc.cores=cores)\n",
    "    names(temp) <- states\n",
    "    for(state in states){\n",
    "        state_data[[state]][[new_key]] <- temp[[state]]\n",
    "    }\n",
    "    state_data\n",
    "}\n",
    "\n",
    "state_data <- apply2(function(x) as(gadm[which(gadm$NAME_1==x$name),], \"SpatialPolygons\"), \n",
    "                     \"SpatialPolygons\", state_data, cores=3)\n",
    "\n",
    "state_data <- apply2(function(x) poly2adjmat(x$SpatialPolygons), \n",
    "                     \"adjmat\", state_data, cores=3)\n",
    "\n",
    "distance_matrix <- function(tmat){\n",
    "    loops <- 0\n",
    "    islands <- names(colSums(tmat)[colSums(tmat) == 0])\n",
    "    sans_island <- tmat\n",
    "    sans_island[,] <- TRUE\n",
    "    sans_island[islands,] <- FALSE\n",
    "    sans_island[,islands] <- FALSE\n",
    "    while(sum(tmat[lower.tri(tmat, diag = FALSE) & sans_island] == 0) != 0){\n",
    "        loops <- loops + 1\n",
    "        for(i in 1:(nrow(tmat) - 1)){\n",
    "            for(j in (i+1):(nrow(tmat))){\n",
    "                if(tmat[i,j] == 0){\n",
    "                    i_neighbors <- tmat[i,][tmat[i,] != 0]\n",
    "                    j_neighbors <- tmat[j,][tmat[j,] != 0]\n",
    "                    shared <- intersect(names(i_neighbors), names(j_neighbors))\n",
    "                    min_ <- nrow(tmat)\n",
    "                    for(s in shared){\n",
    "                        distance <- j_neighbors[s] + i_neighbors[s]\n",
    "                        if(distance < min_){\n",
    "                            min_ <- distance\n",
    "                        }\n",
    "                    }\n",
    "                    if(length(s) > 0 & min_ <= (loops + 1)){\n",
    "                        tmat[i,j] <- min_\n",
    "                        tmat[j,i] <- min_\n",
    "                    }\n",
    "                }\n",
    "            }\n",
    "        }\n",
    "    }\n",
    "    tmat[islands,] <- nrow(tmat) * 3\n",
    "    tmat[,islands] <- nrow(tmat) * 3\n",
    "    tmat[diag(tmat)] <- 0\n",
    "    return (tmat)\n",
    "}\n",
    "\n",
    "rmvn <- function(n, mu = 0, V = matrix(1)) {\n",
    "    # http://rstudio-pubs-static.s3.amazonaws.com/9688_a49c681fab974bbca889e3eae9fbb837.html\n",
    "    p <- length(mu)\n",
    "    if (any(is.na(match(dim(V), p)))) \n",
    "        stop(\"Dimension problem!\")\n",
    "    D <- chol(V)\n",
    "    t(matrix(rnorm(n * p), ncol = p) %*% D + rep(mu, rep(n, p)))\n",
    "}\n",
    "\n",
    "simulate_sre <- function(dist_mat){\n",
    "    N <- nrow(dist_mat)\n",
    "    phi <- 0.38\n",
    "    rmvn(1, rep(0, N), exp(-phi * dist_mat))\n",
    "} \n",
    "\n",
    "delta_simulatar <- function(unit){\n",
    "    # Given a spatial polygons data set applies\n",
    "    # a delta to each unit\n",
    "    sp <- unit$SpatialPolygons\n",
    "    dist_mat <- distance_matrix(unit$adjmat)\n",
    "    N <- length(sp) # number of counties in a state unit\n",
    "    sp$ID <- 1:N\n",
    "    \n",
    "    datur_od <- sapply(1:100, function(x) rnorm(length(sp), 0, 1))\n",
    "    datur_se <- sapply(1:100, function(x) simulate_sre(dist_mat))\n",
    "    x1 <- sapply(1:100, function(x)rnorm(length(sp)))\n",
    "    x2 <- sapply(1:100, function(x)rnorm(length(sp)))\n",
    "    beta1 <- 2\n",
    "    beta2 <- -3\n",
    "    mean_ <- beta1 * x1 + beta2 * x2\n",
    "    random <- sapply(1:ncol(datur_od), function(x) \n",
    "        rpois(length(datur_od[,x]), exp(datur_od[,x])))\n",
    "    spatial <- sapply(1:ncol(datur_se), function(x) \n",
    "        rpois(length(datur_se[,x]), exp(datur_se[,x])))\n",
    "    both <- sapply(1:ncol(datur_se), function(x) \n",
    "        rpois(length(datur_se[,x]), exp(datur_se[,x] + datur_od[,x])))\n",
    "    random_covs <- sapply(1:ncol(datur_od), function(x) \n",
    "        rpois(length(datur_od[,x]), exp(mean_[,x] + datur_od[,x])))\n",
    "    spatial_covs <- sapply(1:ncol(datur_se), function(x) \n",
    "        rpois(length(datur_se[,x]), exp(mean_[,x] + datur_se[,x])))\n",
    "    both_covs <- sapply(1:ncol(datur_se), function(x) \n",
    "        rpois(length(datur_se[,x]), exp(mean_[,x] + datur_se[,x] + datur_od[,x])))\n",
    "    \n",
    "    sp@data[,paste0(\"over_dispersion\", 1:100)] <- datur_od\n",
    "    sp@data[,paste0(\"spatial_random\", 1:100)] <- datur_se\n",
    "    sp@data[,paste0(\"x1\", 1:100)] <- x1\n",
    "    sp@data[,paste0(\"x2\", 1:100)] <- x2\n",
    "    sp@data[,paste0(\"random\", 1:100)] <- random\n",
    "    sp@data[,paste0(\"spatial\", 1:100)] <- spatial\n",
    "    sp@data[,paste0(\"both\", 1:100)] <- both\n",
    "    sp@data[,paste0(\"random_covs\", 1:100)] <- random_covs\n",
    "    sp@data[,paste0(\"spatial_covs\", 1:100)] <- spatial_covs\n",
    "    sp@data[,paste0(\"both_covs\", 1:100)] <- both_covs\n",
    "\n",
    "    sp\n",
    "}\n",
    "                                               \n",
    "state_data <- apply2(delta_simulatar,\"SpatialPolygons\", state_data)"
   ]
  },
  {
   "cell_type": "markdown",
   "metadata": {},
   "source": [
    "# Effects of misspecifying models"
   ]
  },
  {
   "cell_type": "markdown",
   "metadata": {},
   "source": [
    "Here we run some regressions checking out the affect of not accounting for spatial \n",
    "variation as well as not including all variables  \n",
    "\n",
    "true values are \n",
    "1. intecept = 0\n",
    "2. beta_x1100 = 2\n",
    "3. beta_x2100 = -3\n",
    "\n",
    "and the true functional form looks like\n",
    "\n",
    "$ Y_i \\sim Pois(\\theta_i)$\n",
    "\n",
    "$ \\theta_i = log(beta_x1100 * x1100_i + beta_x2100 * x2100_i + GMRF(neighbors_i))$ "
   ]
  },
  {
   "cell_type": "code",
   "execution_count": 7,
   "metadata": {
    "collapsed": false
   },
   "outputs": [
    {
     "data": {
      "text/plain": [
       "\n",
       "Call:\n",
       "glm(formula = spatial_covs100 ~ x1100 + x2100, family = poisson, \n",
       "    data = df)\n",
       "\n",
       "Deviance Residuals: \n",
       "    Min       1Q   Median       3Q      Max  \n",
       "-4.3061  -1.0000  -0.3533   0.1277   6.0919  \n",
       "\n",
       "Coefficients:\n",
       "            Estimate Std. Error z value Pr(>|z|)    \n",
       "(Intercept)  0.45950    0.12548   3.662  0.00025 ***\n",
       "x1100        1.75156    0.07803  22.447  < 2e-16 ***\n",
       "x2100       -3.18249    0.08639 -36.837  < 2e-16 ***\n",
       "---\n",
       "Signif. codes:  0 ‘***’ 0.001 ‘**’ 0.01 ‘*’ 0.05 ‘.’ 0.1 ‘ ’ 1\n",
       "\n",
       "(Dispersion parameter for poisson family taken to be 1)\n",
       "\n",
       "    Null deviance: 3055.64  on 38  degrees of freedom\n",
       "Residual deviance:  124.59  on 36  degrees of freedom\n",
       "AIC: 213.7\n",
       "\n",
       "Number of Fisher Scoring iterations: 5\n"
      ]
     },
     "execution_count": 7,
     "metadata": {},
     "output_type": "execute_result"
    }
   ],
   "source": [
    "df <- state_data$Washington$SpatialPolygons@data\n",
    "\n",
    "summary(glm(spatial_covs100 ~ x1100 + x2100, data=df, family=poisson))"
   ]
  },
  {
   "cell_type": "code",
   "execution_count": 8,
   "metadata": {
    "collapsed": false
   },
   "outputs": [
    {
     "data": {
      "text/plain": [
       "\n",
       "Call:\n",
       "c(\"inla(formula = spatial_covs100 ~ x1100 + x2100 + f(ID, model = \\\"besag\\\", \",  \"    graph = state_data$Washington$adjmat, param = c(1, 0.68)), \",  \"    family = \\\"poisson\\\", data = df)\")\n",
       "\n",
       "Time used:\n",
       " Pre-processing    Running inla Post-processing           Total \n",
       "         0.4260          0.0582          0.0393          0.5235 \n",
       "\n",
       "Fixed effects:\n",
       "               mean     sd 0.025quant 0.5quant 0.975quant    mode kld\n",
       "(Intercept)  0.2098 0.2713    -0.3745   0.2278     0.6935  0.2629   0\n",
       "x1100        2.0422 0.3357     1.4331   2.0231     2.7616  1.9877   0\n",
       "x2100       -3.3153 0.3723    -4.1119  -3.2938    -2.6405 -3.2532   0\n",
       "\n",
       "Random effects:\n",
       "Name\t  Model\n",
       " ID   Besags ICAR model \n",
       "\n",
       "Model hyperparameters:\n",
       "                   mean     sd 0.025quant 0.5quant 0.975quant   mode\n",
       "Precision for ID 0.6058 0.3302      0.188   0.5344      1.444 0.4109\n",
       "\n",
       "Expected number of effective parameters(std dev): 18.27(1.20)\n",
       "Number of equivalent replicates : 2.135 \n",
       "\n",
       "Marginal log-Likelihood:  -111.71 "
      ]
     },
     "execution_count": 8,
     "metadata": {},
     "output_type": "execute_result"
    }
   ],
   "source": [
    "summary(inla(spatial_covs100 ~ x1100 + x2100 + \n",
    "                 f(ID, model=\"besag\", graph=state_data$Washington$adjmat,\n",
    "                   param = c(1, 0.68)), data=df, family=\"poisson\"))"
   ]
  },
  {
   "cell_type": "code",
   "execution_count": 9,
   "metadata": {
    "collapsed": false
   },
   "outputs": [
    {
     "data": {
      "text/plain": [
       "\n",
       "Call:\n",
       "c(\"inla(formula = spatial_covs100 ~ x1100 + x2100 + f(ID, model = \\\"iid\\\", \",  \"    param = c(1, 0.014)), family = \\\"poisson\\\", data = df)\")\n",
       "\n",
       "Time used:\n",
       " Pre-processing    Running inla Post-processing           Total \n",
       "         0.3907          0.0520          0.0324          0.4751 \n",
       "\n",
       "Fixed effects:\n",
       "               mean     sd 0.025quant 0.5quant 0.975quant    mode kld\n",
       "(Intercept)  0.1033 0.3044    -0.5453   0.1208     0.6542  0.1551   0\n",
       "x1100        1.9774 0.2983     1.4273   1.9634     2.6077  1.9369   0\n",
       "x2100       -3.2939 0.3601    -4.0516  -3.2781    -2.6276 -3.2488   0\n",
       "\n",
       "Random effects:\n",
       "Name\t  Model\n",
       " ID   IID model \n",
       "\n",
       "Model hyperparameters:\n",
       "                  mean     sd 0.025quant 0.5quant 0.975quant  mode\n",
       "Precision for ID 1.669 0.8311     0.5904    1.495      3.766 1.199\n",
       "\n",
       "Expected number of effective parameters(std dev): 18.52(1.253)\n",
       "Number of equivalent replicates : 2.106 \n",
       "\n",
       "Marginal log-Likelihood:  -93.65 "
      ]
     },
     "execution_count": 9,
     "metadata": {},
     "output_type": "execute_result"
    }
   ],
   "source": [
    "summary(inla(spatial_covs100 ~ x1100 + x2100 + \n",
    "                 f(ID, model = \"iid\", param = c(1, 0.014)), \n",
    "             data=df, family=\"poisson\"))"
   ]
  },
  {
   "cell_type": "code",
   "execution_count": 13,
   "metadata": {
    "collapsed": false
   },
   "outputs": [
    {
     "data": {
      "text/plain": [
       "\n",
       "Call:\n",
       "glm(formula = spatial_covs100 ~ x2100, family = poisson, data = df)\n",
       "\n",
       "Deviance Residuals: \n",
       "    Min       1Q   Median       3Q      Max  \n",
       "-9.7347  -2.6776  -1.3912  -0.7076  12.9165  \n",
       "\n",
       "Coefficients:\n",
       "            Estimate Std. Error z value Pr(>|z|)    \n",
       "(Intercept)  1.67244    0.07502   22.29   <2e-16 ***\n",
       "x2100       -2.06174    0.04910  -41.99   <2e-16 ***\n",
       "---\n",
       "Signif. codes:  0 ‘***’ 0.001 ‘**’ 0.01 ‘*’ 0.05 ‘.’ 0.1 ‘ ’ 1\n",
       "\n",
       "(Dispersion parameter for poisson family taken to be 1)\n",
       "\n",
       "    Null deviance: 3055.6  on 38  degrees of freedom\n",
       "Residual deviance:  768.5  on 37  degrees of freedom\n",
       "AIC: 855.62\n",
       "\n",
       "Number of Fisher Scoring iterations: 6\n"
      ]
     },
     "execution_count": 13,
     "metadata": {},
     "output_type": "execute_result"
    }
   ],
   "source": [
    "summary(glm(spatial_covs100 ~ x2100, data=df, family=poisson))"
   ]
  },
  {
   "cell_type": "code",
   "execution_count": 14,
   "metadata": {
    "collapsed": false
   },
   "outputs": [
    {
     "data": {
      "text/plain": [
       "\n",
       "Call:\n",
       "c(\"inla(formula = spatial_covs100 ~ x2100 + f(ID, model = \\\"besag\\\", \",  \"    graph = state_data$Washington$adjmat, param = c(1, 0.68)), \",  \"    family = \\\"poisson\\\", data = df)\")\n",
       "\n",
       "Time used:\n",
       " Pre-processing    Running inla Post-processing           Total \n",
       "         0.4695          0.0728          0.0257          0.5679 \n",
       "\n",
       "Fixed effects:\n",
       "               mean     sd 0.025quant 0.5quant 0.975quant    mode kld\n",
       "(Intercept)  0.2037 0.3033    -0.4612   0.2319     0.7195  0.2976   0\n",
       "x2100       -2.8520 0.5342    -4.0013  -2.8189    -1.8896 -2.7566   0\n",
       "\n",
       "Random effects:\n",
       "Name\t  Model\n",
       " ID   Besags ICAR model \n",
       "\n",
       "Model hyperparameters:\n",
       "                   mean     sd 0.025quant 0.5quant 0.975quant   mode\n",
       "Precision for ID 0.0988 0.0432     0.0385    0.091     0.2044 0.0768\n",
       "\n",
       "Expected number of effective parameters(std dev): 26.10(0.8192)\n",
       "Number of equivalent replicates : 1.494 \n",
       "\n",
       "Marginal log-Likelihood:  -124.38 "
      ]
     },
     "execution_count": 14,
     "metadata": {},
     "output_type": "execute_result"
    }
   ],
   "source": [
    "summary(inla(spatial_covs100 ~ x2100 + \n",
    "                 f(ID, model=\"besag\", graph=state_data$Washington$adjmat,\n",
    "                   param = c(1, 0.68)), data=df, family=\"poisson\"))"
   ]
  },
  {
   "cell_type": "code",
   "execution_count": 15,
   "metadata": {
    "collapsed": false
   },
   "outputs": [
    {
     "data": {
      "text/plain": [
       "\n",
       "Call:\n",
       "c(\"inla(formula = spatial_covs100 ~ x2100 + f(ID, model = \\\"iid\\\", \",  \"    param = c(1, 0.014)), family = \\\"poisson\\\", data = df)\")\n",
       "\n",
       "Time used:\n",
       " Pre-processing    Running inla Post-processing           Total \n",
       "         0.3899          0.0483          0.0229          0.4611 \n",
       "\n",
       "Fixed effects:\n",
       "               mean     sd 0.025quant 0.5quant 0.975quant    mode kld\n",
       "(Intercept)  0.1758 0.4143    -0.7162   0.2036     0.9159  0.2602   0\n",
       "x2100       -2.6691 0.4976    -3.7282  -2.6426    -1.7614 -2.5924   0\n",
       "\n",
       "Random effects:\n",
       "Name\t  Model\n",
       " ID   IID model \n",
       "\n",
       "Model hyperparameters:\n",
       "                   mean     sd 0.025quant 0.5quant 0.975quant   mode\n",
       "Precision for ID 0.3138 0.1197     0.1367   0.2954     0.5999 0.2605\n",
       "\n",
       "Expected number of effective parameters(std dev): 26.97(0.7227)\n",
       "Number of equivalent replicates : 1.446 \n",
       "\n",
       "Marginal log-Likelihood:  -108.23 "
      ]
     },
     "execution_count": 15,
     "metadata": {},
     "output_type": "execute_result"
    }
   ],
   "source": [
    "summary(inla(spatial_covs100 ~ x2100 + \n",
    "                 f(ID, model = \"iid\", param = c(1, 0.014)), \n",
    "             data=df, family=\"poisson\"))"
   ]
  },
  {
   "cell_type": "code",
   "execution_count": null,
   "metadata": {
    "collapsed": true
   },
   "outputs": [],
   "source": []
  }
 ],
 "metadata": {
  "kernelspec": {
   "display_name": "R",
   "language": "",
   "name": "ir"
  },
  "language_info": {
   "codemirror_mode": "r",
   "file_extension": ".r",
   "mimetype": "text/x-r-source",
   "name": "R",
   "pygments_lexer": "r",
   "version": "3.2.3"
  }
 },
 "nbformat": 4,
 "nbformat_minor": 0
}
