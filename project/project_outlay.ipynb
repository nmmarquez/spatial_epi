{
 "cells": [
  {
   "cell_type": "markdown",
   "metadata": {},
   "source": [
    "# Testing the BYM2 Model: The Penalised-Complexity Priors  \n",
    "\n",
    "### Goals of this session  \n",
    "1. Simulate data with different underlying random effects components.  \n",
    "    - $\\delta$ which is pure overdispersion  \n",
    "    - $S$ which is spatially correlated  \n",
    "    - A combination of $\\delta$ and $S$  \n",
    "2. Use the BYM2 model to asses how well the model does at caputuring these effects.  \n",
    "3. simulate a similar set of data this time using covarites.  \n",
    "4. Asses covariate bias in BYM2, overdispersion, GMRF, and GMRF+Overdispersion model.  \n",
    "5. Use the ohio dataset as real test case to models  "
   ]
  },
  {
   "cell_type": "code",
   "execution_count": 3,
   "metadata": {
    "collapsed": false
   },
   "outputs": [],
   "source": [
    "options(jupyter.plot_mimetypes = 'image/png')\n",
    "set.seed(123)\n",
    "rm(list=ls())\n",
    "library(SpatialEpi)\n",
    "library(spdep)\n",
    "library(INLA)\n",
    "library(RColorBrewer)\n",
    "library(maptools)\n",
    "library(maps)\n",
    "library(ggplot2)\n",
    "library(sp)\n",
    "library(lattice)\n",
    "library(surveillance)\n",
    "library(parallel)"
   ]
  },
  {
   "cell_type": "code",
   "execution_count": 6,
   "metadata": {
    "collapsed": false
   },
   "outputs": [],
   "source": [
    "## Get Pennsylvania map file\n",
    "load(\"../homework/hw3/USA_adm2.RData\") # From http://gadm.org/\n",
    "\n",
    "# define the 50 states remove DC\n",
    "states <- unique(gadm$NAME_1)\n",
    "states <- as.character(states[!(states %in% c(\"District of Columbia\"))])\n",
    "\n",
    "# each data unit will be a state with different data\n",
    "state_data <- lapply(states, function(x) list(name=x))\n",
    "names(state_data) <- states"
   ]
  },
  {
   "cell_type": "code",
   "execution_count": 7,
   "metadata": {
    "collapsed": false
   },
   "outputs": [],
   "source": [
    "apply2 <- function(f, old_key, new_key, state_data, cores=1){\n",
    "################################################################################\n",
    "    states <- names(state_data)\n",
    "    temp <- mclapply(states, function(x) \n",
    "        f(state_data[[x]][[old_key]]), mc.cores=cores)\n",
    "    names(temp) <- states\n",
    "    for(state in states){\n",
    "        state_data[[state]][[new_key]] <- temp[[state]]\n",
    "    }\n",
    "    state_data\n",
    "}"
   ]
  },
  {
   "cell_type": "code",
   "execution_count": 8,
   "metadata": {
    "collapsed": false
   },
   "outputs": [],
   "source": [
    "state_data <- apply2(function(x) as(gadm[which(gadm$NAME_1==x),], \"SpatialPolygons\"), \n",
    "                     \"name\", \"SpatialPolygons\", state_data)"
   ]
  },
  {
   "cell_type": "code",
   "execution_count": 9,
   "metadata": {
    "collapsed": false
   },
   "outputs": [],
   "source": [
    "state_data <- apply2(poly2adjmat, \"SpatialPolygons\", \"adjmat\", state_data)"
   ]
  },
  {
   "cell_type": "code",
   "execution_count": 33,
   "metadata": {
    "collapsed": false
   },
   "outputs": [
    {
     "ename": "ERROR",
     "evalue": "Error in .local(x, i, j, ..., value): argument \"i\" is missing, with no default\n",
     "output_type": "error",
     "traceback": [
      "Error in .local(x, i, j, ..., value): argument \"i\" is missing, with no default\n"
     ]
    }
   ],
   "source": [
    "delta_simulatar <- function(sp){\n",
    "    # Given a spatial polygons data set applies\n",
    "    # a delta to each unit\n",
    "    sp$ID <- 1:length(sp)\n",
    "    sp[,paste0(\"delta_sim_\", 1:100)] <- sapply(1:100, function(x) rgamma(length(sp), 4, 4))\n",
    "    sp\n",
    "}\n",
    "                                               \n",
    "state_data <- apply2(delta_simulatar, \"SpatialPolygons\",\"SpatialPolygons2\", state_data)"
   ]
  },
  {
   "cell_type": "code",
   "execution_count": null,
   "metadata": {
    "collapsed": false
   },
   "outputs": [],
   "source": [
    "summary(state_data$Californi)"
   ]
  },
  {
   "cell_type": "code",
   "execution_count": null,
   "metadata": {
    "collapsed": true
   },
   "outputs": [],
   "source": []
  },
  {
   "cell_type": "code",
   "execution_count": null,
   "metadata": {
    "collapsed": true
   },
   "outputs": [],
   "source": []
  }
 ],
 "metadata": {
  "kernelspec": {
   "display_name": "R",
   "language": "",
   "name": "ir"
  },
  "language_info": {
   "codemirror_mode": "r",
   "file_extension": ".r",
   "mimetype": "text/x-r-source",
   "name": "R",
   "pygments_lexer": "r",
   "version": "3.2.3"
  }
 },
 "nbformat": 4,
 "nbformat_minor": 0
}
