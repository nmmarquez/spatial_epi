{
 "cells": [
  {
   "cell_type": "markdown",
   "metadata": {},
   "source": [
    "# Whats an MCMC and why do we use it?\n",
    "\n",
    "### The parameter problem\n",
    "In any model that we build we have a problem where we have a set of unknown \n",
    "parameters that we are trying to solve for. In order to figure out what those\n",
    "parameters are we use data to inform our estimate about the parameter.\n",
    "\n",
    "## Obligatory fair coin example\n",
    "Suppose we have a coin and we are trying to figure out what the probability of \n",
    "heads is for the coin.  \n",
    "Since we know that a coin can either be heads or tails we can model this with a \n",
    "binomial distribution.  \n",
    "$Binom(1,p)$  \n",
    "The parameter then that we are trying to estimate is $p$.  \n",
    "How do we figure out what $p$ aka the probability of heads is???  \n",
    "\n",
    "### Inference from data\n",
    "Lets say we flip this coin 300 times and record its frquency of heads.  \n",
    "From this information we should be able to make an estimate about what our\n",
    "paramter $p$ is."
   ]
  },
  {
   "cell_type": "code",
   "execution_count": 1,
   "metadata": {
    "collapsed": false
   },
   "outputs": [],
   "source": [
    "# first lets secretly create a probability and then from flipping a coin we will try and guess it\n",
    "options(jupyter.plot_mimetypes = 'image/png')\n",
    "set.seed(123)\n",
    "super_secret_actual_p <- runif(1)"
   ]
  },
  {
   "cell_type": "code",
   "execution_count": 2,
   "metadata": {
    "collapsed": false
   },
   "outputs": [],
   "source": [
    "# these are the observations that we observe without knowing the actual probability\n",
    "N <- 100 \n",
    "observed <- rbinom(N, 1, super_secret_actual_p)"
   ]
  },
  {
   "cell_type": "code",
   "execution_count": 3,
   "metadata": {
    "collapsed": false
   },
   "outputs": [
    {
     "data": {
      "text/html": [
       "<ol class=list-inline>\n",
       "\t<li>1</li>\n",
       "\t<li>0</li>\n",
       "\t<li>1</li>\n",
       "\t<li>1</li>\n",
       "\t<li>0</li>\n",
       "\t<li>0</li>\n",
       "\t<li>1</li>\n",
       "\t<li>0</li>\n",
       "\t<li>0</li>\n",
       "\t<li>1</li>\n",
       "\t<li>0</li>\n",
       "\t<li>0</li>\n",
       "\t<li>0</li>\n",
       "\t<li>0</li>\n",
       "\t<li>1</li>\n",
       "\t<li>0</li>\n",
       "\t<li>0</li>\n",
       "\t<li>0</li>\n",
       "\t<li>1</li>\n",
       "\t<li>1</li>\n",
       "\t<li>0</li>\n",
       "\t<li>0</li>\n",
       "\t<li>1</li>\n",
       "\t<li>0</li>\n",
       "\t<li>0</li>\n",
       "\t<li>0</li>\n",
       "\t<li>0</li>\n",
       "\t<li>0</li>\n",
       "\t<li>0</li>\n",
       "\t<li>1</li>\n",
       "\t<li>1</li>\n",
       "\t<li>0</li>\n",
       "\t<li>1</li>\n",
       "\t<li>0</li>\n",
       "\t<li>0</li>\n",
       "\t<li>1</li>\n",
       "\t<li>0</li>\n",
       "\t<li>0</li>\n",
       "\t<li>0</li>\n",
       "\t<li>0</li>\n",
       "\t<li>0</li>\n",
       "\t<li>0</li>\n",
       "\t<li>0</li>\n",
       "\t<li>0</li>\n",
       "\t<li>0</li>\n",
       "\t<li>0</li>\n",
       "\t<li>0</li>\n",
       "\t<li>0</li>\n",
       "\t<li>1</li>\n",
       "\t<li>0</li>\n",
       "\t<li>0</li>\n",
       "\t<li>1</li>\n",
       "\t<li>0</li>\n",
       "\t<li>0</li>\n",
       "\t<li>0</li>\n",
       "\t<li>0</li>\n",
       "\t<li>1</li>\n",
       "\t<li>1</li>\n",
       "\t<li>0</li>\n",
       "\t<li>0</li>\n",
       "\t<li>0</li>\n",
       "\t<li>0</li>\n",
       "\t<li>0</li>\n",
       "\t<li>1</li>\n",
       "\t<li>0</li>\n",
       "\t<li>1</li>\n",
       "\t<li>1</li>\n",
       "\t<li>1</li>\n",
       "\t<li>0</li>\n",
       "\t<li>1</li>\n",
       "\t<li>0</li>\n",
       "\t<li>0</li>\n",
       "\t<li>0</li>\n",
       "\t<li>0</li>\n",
       "\t<li>0</li>\n",
       "\t<li>0</li>\n",
       "\t<li>0</li>\n",
       "\t<li>0</li>\n",
       "\t<li>0</li>\n",
       "\t<li>0</li>\n",
       "\t<li>0</li>\n",
       "\t<li>0</li>\n",
       "\t<li>1</li>\n",
       "\t<li>0</li>\n",
       "\t<li>0</li>\n",
       "\t<li>1</li>\n",
       "\t<li>1</li>\n",
       "\t<li>1</li>\n",
       "\t<li>0</li>\n",
       "\t<li>0</li>\n",
       "\t<li>0</li>\n",
       "\t<li>0</li>\n",
       "\t<li>0</li>\n",
       "\t<li>0</li>\n",
       "\t<li>0</li>\n",
       "\t<li>1</li>\n",
       "\t<li>0</li>\n",
       "\t<li>0</li>\n",
       "\t<li>0</li>\n",
       "\t<li>0</li>\n",
       "</ol>\n"
      ],
      "text/latex": [
       "\\begin{enumerate*}\n",
       "\\item 1\n",
       "\\item 0\n",
       "\\item 1\n",
       "\\item 1\n",
       "\\item 0\n",
       "\\item 0\n",
       "\\item 1\n",
       "\\item 0\n",
       "\\item 0\n",
       "\\item 1\n",
       "\\item 0\n",
       "\\item 0\n",
       "\\item 0\n",
       "\\item 0\n",
       "\\item 1\n",
       "\\item 0\n",
       "\\item 0\n",
       "\\item 0\n",
       "\\item 1\n",
       "\\item 1\n",
       "\\item 0\n",
       "\\item 0\n",
       "\\item 1\n",
       "\\item 0\n",
       "\\item 0\n",
       "\\item 0\n",
       "\\item 0\n",
       "\\item 0\n",
       "\\item 0\n",
       "\\item 1\n",
       "\\item 1\n",
       "\\item 0\n",
       "\\item 1\n",
       "\\item 0\n",
       "\\item 0\n",
       "\\item 1\n",
       "\\item 0\n",
       "\\item 0\n",
       "\\item 0\n",
       "\\item 0\n",
       "\\item 0\n",
       "\\item 0\n",
       "\\item 0\n",
       "\\item 0\n",
       "\\item 0\n",
       "\\item 0\n",
       "\\item 0\n",
       "\\item 0\n",
       "\\item 1\n",
       "\\item 0\n",
       "\\item 0\n",
       "\\item 1\n",
       "\\item 0\n",
       "\\item 0\n",
       "\\item 0\n",
       "\\item 0\n",
       "\\item 1\n",
       "\\item 1\n",
       "\\item 0\n",
       "\\item 0\n",
       "\\item 0\n",
       "\\item 0\n",
       "\\item 0\n",
       "\\item 1\n",
       "\\item 0\n",
       "\\item 1\n",
       "\\item 1\n",
       "\\item 1\n",
       "\\item 0\n",
       "\\item 1\n",
       "\\item 0\n",
       "\\item 0\n",
       "\\item 0\n",
       "\\item 0\n",
       "\\item 0\n",
       "\\item 0\n",
       "\\item 0\n",
       "\\item 0\n",
       "\\item 0\n",
       "\\item 0\n",
       "\\item 0\n",
       "\\item 0\n",
       "\\item 1\n",
       "\\item 0\n",
       "\\item 0\n",
       "\\item 1\n",
       "\\item 1\n",
       "\\item 1\n",
       "\\item 0\n",
       "\\item 0\n",
       "\\item 0\n",
       "\\item 0\n",
       "\\item 0\n",
       "\\item 0\n",
       "\\item 0\n",
       "\\item 1\n",
       "\\item 0\n",
       "\\item 0\n",
       "\\item 0\n",
       "\\item 0\n",
       "\\end{enumerate*}\n"
      ],
      "text/markdown": [
       "1. 1\n",
       "2. 0\n",
       "3. 1\n",
       "4. 1\n",
       "5. 0\n",
       "6. 0\n",
       "7. 1\n",
       "8. 0\n",
       "9. 0\n",
       "10. 1\n",
       "11. 0\n",
       "12. 0\n",
       "13. 0\n",
       "14. 0\n",
       "15. 1\n",
       "16. 0\n",
       "17. 0\n",
       "18. 0\n",
       "19. 1\n",
       "20. 1\n",
       "21. 0\n",
       "22. 0\n",
       "23. 1\n",
       "24. 0\n",
       "25. 0\n",
       "26. 0\n",
       "27. 0\n",
       "28. 0\n",
       "29. 0\n",
       "30. 1\n",
       "31. 1\n",
       "32. 0\n",
       "33. 1\n",
       "34. 0\n",
       "35. 0\n",
       "36. 1\n",
       "37. 0\n",
       "38. 0\n",
       "39. 0\n",
       "40. 0\n",
       "41. 0\n",
       "42. 0\n",
       "43. 0\n",
       "44. 0\n",
       "45. 0\n",
       "46. 0\n",
       "47. 0\n",
       "48. 0\n",
       "49. 1\n",
       "50. 0\n",
       "51. 0\n",
       "52. 1\n",
       "53. 0\n",
       "54. 0\n",
       "55. 0\n",
       "56. 0\n",
       "57. 1\n",
       "58. 1\n",
       "59. 0\n",
       "60. 0\n",
       "61. 0\n",
       "62. 0\n",
       "63. 0\n",
       "64. 1\n",
       "65. 0\n",
       "66. 1\n",
       "67. 1\n",
       "68. 1\n",
       "69. 0\n",
       "70. 1\n",
       "71. 0\n",
       "72. 0\n",
       "73. 0\n",
       "74. 0\n",
       "75. 0\n",
       "76. 0\n",
       "77. 0\n",
       "78. 0\n",
       "79. 0\n",
       "80. 0\n",
       "81. 0\n",
       "82. 0\n",
       "83. 1\n",
       "84. 0\n",
       "85. 0\n",
       "86. 1\n",
       "87. 1\n",
       "88. 1\n",
       "89. 0\n",
       "90. 0\n",
       "91. 0\n",
       "92. 0\n",
       "93. 0\n",
       "94. 0\n",
       "95. 0\n",
       "96. 1\n",
       "97. 0\n",
       "98. 0\n",
       "99. 0\n",
       "100. 0\n",
       "\n",
       "\n"
      ],
      "text/plain": [
       "  [1] 1 0 1 1 0 0 1 0 0 1 0 0 0 0 1 0 0 0 1 1 0 0 1 0 0 0 0 0 0 1 1 0 1 0 0 1 0\n",
       " [38] 0 0 0 0 0 0 0 0 0 0 0 1 0 0 1 0 0 0 0 1 1 0 0 0 0 0 1 0 1 1 1 0 1 0 0 0 0\n",
       " [75] 0 0 0 0 0 0 0 0 1 0 0 1 1 1 0 0 0 0 0 0 0 1 0 0 0 0"
      ]
     },
     "execution_count": 3,
     "metadata": {},
     "output_type": "execute_result"
    }
   ],
   "source": [
    "# we will say 1 = heads\n",
    "observed"
   ]
  },
  {
   "cell_type": "markdown",
   "metadata": {},
   "source": [
    "## The Big Bad MLE\n",
    "\n",
    "![alternate text](https://media.giphy.com/media/bojCyGOjooVy0/giphy.gif)\n",
    "\n",
    "Now that we have our observed values we can make an estimate about what $p$ is.  \n",
    "One approach is using the Maximum Likelihood Estimate(MLE) approach.  \n",
    "MLE says given a likelihood function that takes parameters and \n",
    "data and returns a value the maximum value found will be the best guess.  \n",
    "Formally this is expressed as  \n",
    "\n",
    "$ln ~ \\mathcal{L}(\\theta | x_1, x_2, ..., x_n) = \\sum_{i=1}^{N} ln ~ \\mathcal{f}(\\theta|x_i)$  \n",
    "\n",
    "The likelihood function for the p paramter in the binomial disribution given some data is  \n",
    "\n",
    "$ln ~ \\mathcal{L}(p | x,n) = ln \\big(\\frac{n!}{x!(n-x)!}p^{x}(1-p)^{n-x} \\big)$  \n",
    "\n",
    "where \n",
    "$p$ is a $p$ value we are testing  \n",
    "$n$ is the number times we flipped a the coin  \n",
    "$x$ is how many heads we saw in the data  \n",
    "\n",
    "No one knows why any of that is right but it is I promise  \n",
    "![](http://i.imgur.com/Uavdtsy.gif)"
   ]
  },
  {
   "cell_type": "code",
   "execution_count": 176,
   "metadata": {
    "collapsed": true
   },
   "outputs": [],
   "source": [
    "# calculate the likelihood in R\n",
    "likelihood <- function(p, obs=observed){\n",
    "    n <- length(obs)\n",
    "    x <- sum(obs)\n",
    "    l <- (factorial(n)/(factorial(x) * factorial(n-x))) * p**x * (1-p)**(n-x)\n",
    "    log(l)\n",
    "}"
   ]
  },
  {
   "cell_type": "markdown",
   "metadata": {},
   "source": [
    "Now that we have a likelihood function we can test different values \n",
    "of p to see which one gives us the largest result."
   ]
  },
  {
   "cell_type": "code",
   "execution_count": 177,
   "metadata": {
    "collapsed": false
   },
   "outputs": [
    {
     "data": {
      "text/html": [
       "-13.4017301304201"
      ],
      "text/latex": [
       "-13.4017301304201"
      ],
      "text/markdown": [
       "-13.4017301304201"
      ],
      "text/plain": [
       "[1] -13.40173"
      ]
     },
     "execution_count": 177,
     "metadata": {},
     "output_type": "execute_result"
    }
   ],
   "source": [
    "# Whats the liklehood of a fair coin\n",
    "likelihood(.5)"
   ]
  },
  {
   "cell_type": "code",
   "execution_count": 178,
   "metadata": {
    "collapsed": false
   },
   "outputs": [
    {
     "data": {
      "text/html": [
       "-24.7685273429207"
      ],
      "text/latex": [
       "-24.7685273429207"
      ],
      "text/markdown": [
       "-24.7685273429207"
      ],
      "text/plain": [
       "[1] -24.76853"
      ]
     },
     "execution_count": 178,
     "metadata": {},
     "output_type": "execute_result"
    }
   ],
   "source": [
    "# what about more heads than tails?\n",
    "likelihood(.6)"
   ]
  },
  {
   "cell_type": "code",
   "execution_count": 179,
   "metadata": {
    "collapsed": false
   },
   "outputs": [
    {
     "data": {
      "text/html": [
       "-6.1171323699451"
      ],
      "text/latex": [
       "-6.1171323699451"
      ],
      "text/markdown": [
       "-6.1171323699451"
      ],
      "text/plain": [
       "[1] -6.117132"
      ]
     },
     "execution_count": 179,
     "metadata": {},
     "output_type": "execute_result"
    }
   ],
   "source": [
    "# what about more tails than heads?\n",
    "likelihood(.4)"
   ]
  },
  {
   "cell_type": "markdown",
   "metadata": {},
   "source": [
    "It looks like this coin favors tails over heads because the MLE is higher for \n",
    "value of lower than .5 rather than .5. What about testing lots of values?"
   ]
  },
  {
   "cell_type": "code",
   "execution_count": 180,
   "metadata": {
    "collapsed": false
   },
   "outputs": [
    {
     "data": {
      "image/png": "[encoded data removed]"
     },
     "metadata": {},
     "output_type": "display_data"
    }
   ],
   "source": [
    "test_values <- seq(from=.01, to=.99, by=.01)\n",
    "nll_values <- sapply(test_values, likelihood)\n",
    "MLE <- test_values[which(nll_values == max(nll_values))]\n",
    "plot(test_values, nll_values, type=\"l\", main=paste0(\"Likelihood of test values MLE = \", MLE))\n",
    "lines(c(MLE, MLE), c(min(nll_values), max(nll_values)), col=\"red\")"
   ]
  },
  {
   "cell_type": "markdown",
   "metadata": {},
   "source": [
    "After testing a bunch of values it looks like MLE says our best guess is about .27  \n",
    "Actually R has a built in optemizer functions that we can use to calculate this too.  \n",
    "You give it a likelihood function and a start value and it will return the paramater estimate.  \n",
    "It even gives the uncertainty if you do some maths. \n",
    "![](https://media.giphy.com/media/9lMoyThpKynde/giphy.gif)"
   ]
  },
  {
   "cell_type": "code",
   "execution_count": 141,
   "metadata": {
    "collapsed": false
   },
   "outputs": [],
   "source": [
    "fit <- optim(.5, fn=likelihood, obs=observed, lower=0.01, \n",
    "             upper=.99, control=list(fnscale=-1), hessian=T, method=\"L-BFGS-B\")"
   ]
  },
  {
   "cell_type": "code",
   "execution_count": 147,
   "metadata": {
    "collapsed": false
   },
   "outputs": [],
   "source": [
    "fisher_info<-solve(-fit$hessian)\n",
    "prop_sigma<-sqrt(fisher_info)\n",
    "prop_sigma<-diag(prop_sigma)\n",
    "upper<-fit$par+1.96*prop_sigma\n",
    "lower<-fit$par-1.96*prop_sigma\n",
    "interval<-data.frame(value=fit$par, upper=upper, lower=lower)"
   ]
  },
  {
   "cell_type": "code",
   "execution_count": 148,
   "metadata": {
    "collapsed": false
   },
   "outputs": [
    {
     "data": {
      "text/html": [
       "<dl class=dl-horizontal>\n",
       "\t<dt>lower</dt>\n",
       "\t\t<dd>0.18298548026471</dd>\n",
       "\t<dt>mean</dt>\n",
       "\t\t<dd>0.270000776115732</dd>\n",
       "\t<dt>upper</dt>\n",
       "\t\t<dd>0.357016071966754</dd>\n",
       "</dl>\n"
      ],
      "text/latex": [
       "\\begin{description*}\n",
       "\\item[lower] 0.18298548026471\n",
       "\\item[mean] 0.270000776115732\n",
       "\\item[upper] 0.357016071966754\n",
       "\\end{description*}\n"
      ],
      "text/markdown": [
       "lower\n",
       ":   0.18298548026471mean\n",
       ":   0.270000776115732upper\n",
       ":   0.357016071966754\n",
       "\n"
      ],
      "text/plain": [
       "    lower      mean     upper \n",
       "0.1829855 0.2700008 0.3570161 "
      ]
     },
     "execution_count": 148,
     "metadata": {},
     "output_type": "execute_result"
    }
   ],
   "source": [
    "c(lower=lower, mean=fit$par, upper=upper)"
   ]
  },
  {
   "cell_type": "markdown",
   "metadata": {},
   "source": [
    "But actually this is pretty much what GLM is doing under the hood..."
   ]
  },
  {
   "cell_type": "code",
   "execution_count": 149,
   "metadata": {
    "collapsed": false
   },
   "outputs": [],
   "source": [
    "glm_fit <- glm(observed ~ 1, family=\"binomial\")"
   ]
  },
  {
   "cell_type": "code",
   "execution_count": 160,
   "metadata": {
    "collapsed": true
   },
   "outputs": [],
   "source": [
    "glm_intervals <- confint.default(glm_fit)"
   ]
  },
  {
   "cell_type": "code",
   "execution_count": 161,
   "metadata": {
    "collapsed": false
   },
   "outputs": [
    {
     "data": {
      "text/html": [
       "<dl class=dl-horizontal>\n",
       "\t<dt>lower</dt>\n",
       "\t\t<dd>0.192150653772267</dd>\n",
       "\t<dt>mean</dt>\n",
       "\t\t<dd>0.270000000000531</dd>\n",
       "\t<dt>upper</dt>\n",
       "\t\t<dd>0.365134060794741</dd>\n",
       "</dl>\n"
      ],
      "text/latex": [
       "\\begin{description*}\n",
       "\\item[lower] 0.192150653772267\n",
       "\\item[mean] 0.270000000000531\n",
       "\\item[upper] 0.365134060794741\n",
       "\\end{description*}\n"
      ],
      "text/markdown": [
       "lower\n",
       ":   0.192150653772267mean\n",
       ":   0.270000000000531upper\n",
       ":   0.365134060794741\n",
       "\n"
      ],
      "text/plain": [
       "    lower      mean     upper \n",
       "0.1921507 0.2700000 0.3651341 "
      ]
     },
     "execution_count": 161,
     "metadata": {},
     "output_type": "execute_result"
    }
   ],
   "source": [
    "1 / (1 + exp(-1 * c(lower=glm_intervals[1,1], mean=glm_fit$coefficients[[1]], upper=glm_intervals[1,2])))"
   ]
  },
  {
   "cell_type": "markdown",
   "metadata": {},
   "source": [
    "But why are the intervals (slightly) different?  \n",
    "The algorithms used for maximization in GLM are a little different.  \n",
    "Also thats more maths than i know."
   ]
  },
  {
   "cell_type": "markdown",
   "metadata": {},
   "source": [
    "## Bayes (the alternative to MLE)"
   ]
  },
  {
   "cell_type": "markdown",
   "metadata": {},
   "source": [
    "MLE is only one way to solve this problem we could also approach this problem  \n",
    "form a bayesian approach.  \n",
    "The bayes approach says you have a prior an idea of what the parameter should be.  \n",
    "You also use the likelihood (the datur) and this updates your beliefs.  \n",
    "This will give you a posterior ie your knew beliefs given the data.  \n",
    "Formally this looks like  \n",
    "$P(A|B) = \\frac{P(B|A)P(A)}{P(B)}$  \n",
    "where...\n",
    "$A$ is our hypothesis  \n",
    "$B$ is our data  \n",
    "$P(B|A)$ is the likelihood or the probabilty of data when hypothesis is true  \n",
    "$P(A)$ the prior, or probability of our hypothesis  \n",
    "$P(B)$ the probability of data given all hypothesis  \n",
    "$P(A|B)$ posterior, or the probability of our hypothesis given our data  \n",
    "The biggest fundamental differnece between Bayes and the MLE (a type of \"frequentist\" approach) \n",
    "is  \n",
    "\n",
    "__From a bayesian standpoint a paramter is a random variable__  \n",
    "__From a frequentist standpoint a paramter is a fixed, albeit unknown, variable__  \n",
    "__From my viewpoint the JEDI are evil__"
   ]
  },
  {
   "cell_type": "markdown",
   "metadata": {},
   "source": [
    "![Image of Yaktocat](http://globalhealth.washington.edu/sites/default/files/styles/faculty/public/faculty/Ng,%20Marie.JPG)"
   ]
  },
  {
   "cell_type": "markdown",
   "metadata": {},
   "source": [
    "This means that p is not fixed and if its not fixed it has a distribution and if \n",
    "it has a distribution we can try and estimate it  \n",
    "First things first we need a prior $P(A)$"
   ]
  },
  {
   "cell_type": "code",
   "execution_count": 167,
   "metadata": {
    "collapsed": false
   },
   "outputs": [
    {
     "data": {
      "image/png": "[encoded data removed]"
     },
     "metadata": {},
     "output_type": "display_data"
    }
   ],
   "source": [
    "# lets get a prior for p\n",
    "prior <- function(p){\n",
    "    dbeta(p,10,10,log=TRUE)\n",
    "}\n",
    "\n",
    "# I choose a beta prior because its a probability ditribution from 0-1 check it\n",
    "plot(density(rbeta(10000, 10, 10)), xlab=\"p\")"
   ]
  },
  {
   "cell_type": "markdown",
   "metadata": {},
   "source": [
    "With this prior I am saying that before I see any data i mostly believe that the coin \n",
    "has a $p$ of .5 but im pretty open to hearing anything from like $.2$ to $.8$  \n",
    "\n",
    "So we have our prior $p(A)$ we have our likelihood $P(B|A)$  \n",
    "we actually dont need a $P(B)$ because everything needs too add to one so all we \n",
    "need to do now is calculate $P(A|B)$ or posterior.  \n",
    "But we dont have numbers we have distributions how do we add those?\n",
    "\n",
    "### MCMCMCMCMCMCMCMCMCMCMCMCMC\n",
    "![](https://s-media-cache-ak0.pinimg.com/originals/b6/6a/24/b66a2440818fbdeaaec5f16960d8cfa1.jpg)"
   ]
  },
  {
   "cell_type": "markdown",
   "metadata": {},
   "source": [
    "What is MCMC???\n",
    "\n",
    "Its basically a way to walk around a space to find an answer.  \n",
    "Our Space that we want to walk around is the posterioir distribution space.   \n",
    "By walking around the space we get an idea of what the distribution looks like.  \n",
    "MCMC dictates the rules by which we walk around the space. \n",
    "\n",
    "The rules for the MCMC as proposed in the Metropolis-Hastings algorithm are as follows.\n",
    "1. Start at a random parameter value\n",
    "2. Choosing a new parameter value close to the old value based on some probability \n",
    "   density that is called the proposal function\n",
    "3. Jumping to this new point with a probability p(new)/p(old), where p is the target function, \n",
    "   and p>1 means jumping as well"
   ]
  },
  {
   "cell_type": "code",
   "execution_count": 168,
   "metadata": {
    "collapsed": true
   },
   "outputs": [],
   "source": [
    "# This is our posterior just the sum of our prior an likelihood\n",
    "\n",
    "posterior <- function(p){\n",
    "   return (likelihood(p) + prior(p))\n",
    "}"
   ]
  },
  {
   "cell_type": "code",
   "execution_count": 171,
   "metadata": {
    "collapsed": false
   },
   "outputs": [],
   "source": [
    "######## MCMC Metropolis algorithm ################\n",
    " \n",
    "proposalfunction <- function(p){\n",
    "    return(rnorm(1,mean = p, sd=c(0.05)))\n",
    "}\n",
    " \n",
    "run_metropolis_MCMC <- function(startvalue, iterations){\n",
    "    chain <- array(dim = c(iterations+1,1))\n",
    "    chain[1,] <- startvalue\n",
    "    for (i in 1:iterations){\n",
    "        proposal = proposalfunction(chain[i,])\n",
    "         \n",
    "        probab = exp(posterior(proposal) - posterior(chain[i,]))\n",
    "        if (runif(1) < probab){\n",
    "            chain[i+1,] = proposal\n",
    "        }else{\n",
    "            chain[i+1,] = chain[i,]\n",
    "        }\n",
    "    }\n",
    "    return(chain)\n",
    "}\n",
    " \n",
    "startvalue <- c(.5)\n",
    "chain <- run_metropolis_MCMC(startvalue, 10000)\n",
    " \n",
    "burnIn <- 5000\n",
    "acceptance <- 1-mean(duplicated(chain[-(1:burnIn),]))"
   ]
  },
  {
   "cell_type": "markdown",
   "metadata": {},
   "source": [
    "So now we have our posterior using the MCMC which is a distribution of our paramter value \n",
    "of interest $p$  \n",
    "What does that leave us with for our final estimate?  \n",
    "Did we come close did we do it?\n",
    "\n",
    "### DRUM ROLL!!!\n",
    "\n",
    "![](http://www.cutecatgifs.com/wp-content/uploads/2014/01/metal.gif)"
   ]
  },
  {
   "cell_type": "code",
   "execution_count": 175,
   "metadata": {
    "collapsed": false
   },
   "outputs": [
    {
     "data": {
      "image/png": "[encoded data removed]"
     },
     "metadata": {},
     "output_type": "display_data"
    }
   ],
   "source": [
    "mean_post <- mean(chain[-(1:burnIn),1])\n",
    "hist(chain[-(1:burnIn),1],nclass=30, , main=paste0(\"Posterior of p; mean = \", round(mean_post, 2)), \n",
    "     xlab=paste0(\"True value = red line = \", round(super_secret_actual_p, 2)))\n",
    "abline(v = mean_post)\n",
    "abline(v = super_secret_actual_p, col=\"red\" )"
   ]
  },
  {
   "cell_type": "markdown",
   "metadata": {},
   "source": [
    "Sweet we got our paramter back and it looks like a legit estimate.  \n",
    "Youll notice that the mean estimate from the MCMC process gives us a value \n",
    "higher than the MLE.  \n",
    "This is because our prior shifted the distribution slightly upwards.  \n",
    "\n",
    "The reason you would want to use a bayesian approach (with MCMC) over a frequentist approach \n",
    "(MLE, least sqaures and such) are probably best left for another time but I just wanted to \n",
    "walk through some different ways of estimating parameters here.\n",
    "\n",
    "### Its midnight Im out  \n",
    "![](http://vignette2.wikia.nocookie.net/glee/images/1/17/Bye_daniel.gif/revision/latest?cb=20110716235001)"
   ]
  }
 ],
 "metadata": {
  "kernelspec": {
   "display_name": "R",
   "language": "",
   "name": "ir"
  },
  "language_info": {
   "codemirror_mode": "r",
   "file_extension": ".r",
   "mimetype": "text/x-r-source",
   "name": "R",
   "pygments_lexer": "r",
   "version": "3.2.3"
  }
 },
 "nbformat": 4,
 "nbformat_minor": 0
}
